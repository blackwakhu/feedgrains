{
 "cells": [
  {
   "cell_type": "code",
   "execution_count": 1,
   "metadata": {},
   "outputs": [
    {
     "data": {
      "text/html": [
       "<div>\n",
       "<style scoped>\n",
       "    .dataframe tbody tr th:only-of-type {\n",
       "        vertical-align: middle;\n",
       "    }\n",
       "\n",
       "    .dataframe tbody tr th {\n",
       "        vertical-align: top;\n",
       "    }\n",
       "\n",
       "    .dataframe thead th {\n",
       "        text-align: right;\n",
       "    }\n",
       "</style>\n",
       "<table border=\"1\" class=\"dataframe\">\n",
       "  <thead>\n",
       "    <tr style=\"text-align: right;\">\n",
       "      <th></th>\n",
       "      <th>SC_Group_ID</th>\n",
       "      <th>SC_Group_Desc</th>\n",
       "      <th>SC_GroupCommod_ID</th>\n",
       "      <th>SC_GroupCommod_Desc</th>\n",
       "      <th>SC_Geography_ID</th>\n",
       "      <th>SortOrder</th>\n",
       "      <th>SC_GeographyIndented_Desc</th>\n",
       "      <th>SC_Commodity_ID</th>\n",
       "      <th>SC_Commodity_Desc</th>\n",
       "      <th>SC_Attribute_ID</th>\n",
       "      <th>SC_Attribute_Desc</th>\n",
       "      <th>SC_Unit_ID</th>\n",
       "      <th>SC_Unit_Desc</th>\n",
       "      <th>Year_ID</th>\n",
       "      <th>SC_Frequency_ID</th>\n",
       "      <th>SC_Frequency_Desc</th>\n",
       "      <th>Timeperiod_ID</th>\n",
       "      <th>Timeperiod_Desc</th>\n",
       "      <th>Amount</th>\n",
       "    </tr>\n",
       "  </thead>\n",
       "  <tbody>\n",
       "    <tr>\n",
       "      <th>0</th>\n",
       "      <td>1</td>\n",
       "      <td>Prices</td>\n",
       "      <td>17.0</td>\n",
       "      <td>Oats</td>\n",
       "      <td>1</td>\n",
       "      <td>0.8</td>\n",
       "      <td>United States</td>\n",
       "      <td>3</td>\n",
       "      <td>Oats</td>\n",
       "      <td>5</td>\n",
       "      <td>Prices received by farmers</td>\n",
       "      <td>4</td>\n",
       "      <td>Dollars per bushel</td>\n",
       "      <td>1993</td>\n",
       "      <td>2</td>\n",
       "      <td>Quarterly</td>\n",
       "      <td>115</td>\n",
       "      <td>CY 5YR Quarterly Moving Average for Jan-Mar</td>\n",
       "      <td>1.423390</td>\n",
       "    </tr>\n",
       "    <tr>\n",
       "      <th>1</th>\n",
       "      <td>1</td>\n",
       "      <td>Prices</td>\n",
       "      <td>17.0</td>\n",
       "      <td>Oats</td>\n",
       "      <td>1</td>\n",
       "      <td>0.8</td>\n",
       "      <td>United States</td>\n",
       "      <td>3</td>\n",
       "      <td>Oats</td>\n",
       "      <td>5</td>\n",
       "      <td>Prices received by farmers</td>\n",
       "      <td>4</td>\n",
       "      <td>Dollars per bushel</td>\n",
       "      <td>1993</td>\n",
       "      <td>2</td>\n",
       "      <td>Quarterly</td>\n",
       "      <td>116</td>\n",
       "      <td>CY 5YR Quarterly Moving Average for Apr-Jun</td>\n",
       "      <td>1.460057</td>\n",
       "    </tr>\n",
       "    <tr>\n",
       "      <th>2</th>\n",
       "      <td>1</td>\n",
       "      <td>Prices</td>\n",
       "      <td>17.0</td>\n",
       "      <td>Oats</td>\n",
       "      <td>1</td>\n",
       "      <td>0.8</td>\n",
       "      <td>United States</td>\n",
       "      <td>3</td>\n",
       "      <td>Oats</td>\n",
       "      <td>5</td>\n",
       "      <td>Prices received by farmers</td>\n",
       "      <td>4</td>\n",
       "      <td>Dollars per bushel</td>\n",
       "      <td>1993</td>\n",
       "      <td>2</td>\n",
       "      <td>Quarterly</td>\n",
       "      <td>117</td>\n",
       "      <td>CY 5YR Quarterly Moving Average for Jul-Sep</td>\n",
       "      <td>1.336757</td>\n",
       "    </tr>\n",
       "    <tr>\n",
       "      <th>3</th>\n",
       "      <td>1</td>\n",
       "      <td>Prices</td>\n",
       "      <td>17.0</td>\n",
       "      <td>Oats</td>\n",
       "      <td>1</td>\n",
       "      <td>0.8</td>\n",
       "      <td>United States</td>\n",
       "      <td>3</td>\n",
       "      <td>Oats</td>\n",
       "      <td>5</td>\n",
       "      <td>Prices received by farmers</td>\n",
       "      <td>4</td>\n",
       "      <td>Dollars per bushel</td>\n",
       "      <td>1993</td>\n",
       "      <td>2</td>\n",
       "      <td>Quarterly</td>\n",
       "      <td>118</td>\n",
       "      <td>CY 5YR Quarterly Moving Average for Oct-Dec</td>\n",
       "      <td>1.376774</td>\n",
       "    </tr>\n",
       "    <tr>\n",
       "      <th>4</th>\n",
       "      <td>1</td>\n",
       "      <td>Prices</td>\n",
       "      <td>17.0</td>\n",
       "      <td>Oats</td>\n",
       "      <td>1</td>\n",
       "      <td>0.8</td>\n",
       "      <td>United States</td>\n",
       "      <td>3</td>\n",
       "      <td>Oats</td>\n",
       "      <td>5</td>\n",
       "      <td>Prices received by farmers</td>\n",
       "      <td>4</td>\n",
       "      <td>Dollars per bushel</td>\n",
       "      <td>1993</td>\n",
       "      <td>2</td>\n",
       "      <td>Quarterly</td>\n",
       "      <td>119</td>\n",
       "      <td>MY 5YR Quarterly Moving Average for Sep-Nov</td>\n",
       "      <td>1.333208</td>\n",
       "    </tr>\n",
       "  </tbody>\n",
       "</table>\n",
       "</div>"
      ],
      "text/plain": [
       "   SC_Group_ID SC_Group_Desc  SC_GroupCommod_ID SC_GroupCommod_Desc  \\\n",
       "0            1        Prices               17.0                Oats   \n",
       "1            1        Prices               17.0                Oats   \n",
       "2            1        Prices               17.0                Oats   \n",
       "3            1        Prices               17.0                Oats   \n",
       "4            1        Prices               17.0                Oats   \n",
       "\n",
       "   SC_Geography_ID  SortOrder SC_GeographyIndented_Desc  SC_Commodity_ID  \\\n",
       "0                1        0.8             United States                3   \n",
       "1                1        0.8             United States                3   \n",
       "2                1        0.8             United States                3   \n",
       "3                1        0.8             United States                3   \n",
       "4                1        0.8             United States                3   \n",
       "\n",
       "  SC_Commodity_Desc  SC_Attribute_ID           SC_Attribute_Desc  SC_Unit_ID  \\\n",
       "0              Oats                5  Prices received by farmers           4   \n",
       "1              Oats                5  Prices received by farmers           4   \n",
       "2              Oats                5  Prices received by farmers           4   \n",
       "3              Oats                5  Prices received by farmers           4   \n",
       "4              Oats                5  Prices received by farmers           4   \n",
       "\n",
       "         SC_Unit_Desc  Year_ID  SC_Frequency_ID SC_Frequency_Desc  \\\n",
       "0  Dollars per bushel     1993                2         Quarterly   \n",
       "1  Dollars per bushel     1993                2         Quarterly   \n",
       "2  Dollars per bushel     1993                2         Quarterly   \n",
       "3  Dollars per bushel     1993                2         Quarterly   \n",
       "4  Dollars per bushel     1993                2         Quarterly   \n",
       "\n",
       "   Timeperiod_ID                              Timeperiod_Desc    Amount  \n",
       "0            115  CY 5YR Quarterly Moving Average for Jan-Mar  1.423390  \n",
       "1            116  CY 5YR Quarterly Moving Average for Apr-Jun  1.460057  \n",
       "2            117  CY 5YR Quarterly Moving Average for Jul-Sep  1.336757  \n",
       "3            118  CY 5YR Quarterly Moving Average for Oct-Dec  1.376774  \n",
       "4            119  MY 5YR Quarterly Moving Average for Sep-Nov  1.333208  "
      ]
     },
     "execution_count": 1,
     "metadata": {},
     "output_type": "execute_result"
    }
   ],
   "source": [
    "import numpy as np\n",
    "import pandas as pd\n",
    "from matplotlib import pyplot as plt\n",
    "import seaborn as sns\n",
    "\n",
    "data = pd.read_csv('FeedGrains.csv')\n",
    "data.head()"
   ]
  },
  {
   "cell_type": "code",
   "execution_count": 2,
   "metadata": {},
   "outputs": [
    {
     "data": {
      "text/plain": [
       "SC_Group_ID                     0\n",
       "SC_Group_Desc                   0\n",
       "SC_GroupCommod_ID            7104\n",
       "SC_GroupCommod_Desc          7104\n",
       "SC_Geography_ID                 0\n",
       "SortOrder                       0\n",
       "SC_GeographyIndented_Desc       0\n",
       "SC_Commodity_ID                 0\n",
       "SC_Commodity_Desc               0\n",
       "SC_Attribute_ID                 0\n",
       "SC_Attribute_Desc               0\n",
       "SC_Unit_ID                      0\n",
       "SC_Unit_Desc                    0\n",
       "Year_ID                         0\n",
       "SC_Frequency_ID                 0\n",
       "SC_Frequency_Desc               0\n",
       "Timeperiod_ID                   0\n",
       "Timeperiod_Desc                 0\n",
       "Amount                          0\n",
       "dtype: int64"
      ]
     },
     "execution_count": 2,
     "metadata": {},
     "output_type": "execute_result"
    }
   ],
   "source": [
    "data.isnull().sum()"
   ]
  },
  {
   "cell_type": "code",
   "execution_count": 3,
   "metadata": {},
   "outputs": [
    {
     "data": {
      "text/plain": [
       "(483203, 19)"
      ]
     },
     "execution_count": 3,
     "metadata": {},
     "output_type": "execute_result"
    }
   ],
   "source": [
    "data.shape"
   ]
  },
  {
   "cell_type": "code",
   "execution_count": 36,
   "metadata": {},
   "outputs": [
    {
     "data": {
      "text/plain": [
       "0.80      32771\n",
       "1.00      21428\n",
       "1.50      11904\n",
       "1.60      11760\n",
       "3.00      11426\n",
       "          ...  \n",
       "99.99         2\n",
       "275.00        2\n",
       "99.95         2\n",
       "230.00        2\n",
       "268.00        2\n",
       "Name: SortOrder, Length: 272, dtype: int64"
      ]
     },
     "execution_count": 36,
     "metadata": {},
     "output_type": "execute_result"
    }
   ],
   "source": [
    "data.SortOrder.value_counts()"
   ]
  },
  {
   "cell_type": "code",
   "execution_count": 4,
   "metadata": {},
   "outputs": [
    {
     "data": {
      "text/plain": [
       "(476099, 19)"
      ]
     },
     "execution_count": 4,
     "metadata": {},
     "output_type": "execute_result"
    }
   ],
   "source": [
    "data = data.dropna(axis=0)\n",
    "data.shape"
   ]
  },
  {
   "cell_type": "code",
   "execution_count": 5,
   "metadata": {},
   "outputs": [
    {
     "data": {
      "text/html": [
       "<div>\n",
       "<style scoped>\n",
       "    .dataframe tbody tr th:only-of-type {\n",
       "        vertical-align: middle;\n",
       "    }\n",
       "\n",
       "    .dataframe tbody tr th {\n",
       "        vertical-align: top;\n",
       "    }\n",
       "\n",
       "    .dataframe thead th {\n",
       "        text-align: right;\n",
       "    }\n",
       "</style>\n",
       "<table border=\"1\" class=\"dataframe\">\n",
       "  <thead>\n",
       "    <tr style=\"text-align: right;\">\n",
       "      <th></th>\n",
       "      <th>SC_Group_ID</th>\n",
       "      <th>SC_GroupCommod_ID</th>\n",
       "      <th>SC_Geography_ID</th>\n",
       "      <th>SortOrder</th>\n",
       "      <th>SC_Commodity_ID</th>\n",
       "      <th>SC_Attribute_ID</th>\n",
       "      <th>SC_Unit_ID</th>\n",
       "      <th>Year_ID</th>\n",
       "      <th>SC_Frequency_ID</th>\n",
       "      <th>Timeperiod_ID</th>\n",
       "      <th>Amount</th>\n",
       "    </tr>\n",
       "  </thead>\n",
       "  <tbody>\n",
       "    <tr>\n",
       "      <th>0</th>\n",
       "      <td>1</td>\n",
       "      <td>17.0</td>\n",
       "      <td>1</td>\n",
       "      <td>0.8</td>\n",
       "      <td>3</td>\n",
       "      <td>5</td>\n",
       "      <td>4</td>\n",
       "      <td>1993</td>\n",
       "      <td>2</td>\n",
       "      <td>115</td>\n",
       "      <td>1.423390</td>\n",
       "    </tr>\n",
       "    <tr>\n",
       "      <th>1</th>\n",
       "      <td>1</td>\n",
       "      <td>17.0</td>\n",
       "      <td>1</td>\n",
       "      <td>0.8</td>\n",
       "      <td>3</td>\n",
       "      <td>5</td>\n",
       "      <td>4</td>\n",
       "      <td>1993</td>\n",
       "      <td>2</td>\n",
       "      <td>116</td>\n",
       "      <td>1.460057</td>\n",
       "    </tr>\n",
       "    <tr>\n",
       "      <th>2</th>\n",
       "      <td>1</td>\n",
       "      <td>17.0</td>\n",
       "      <td>1</td>\n",
       "      <td>0.8</td>\n",
       "      <td>3</td>\n",
       "      <td>5</td>\n",
       "      <td>4</td>\n",
       "      <td>1993</td>\n",
       "      <td>2</td>\n",
       "      <td>117</td>\n",
       "      <td>1.336757</td>\n",
       "    </tr>\n",
       "    <tr>\n",
       "      <th>3</th>\n",
       "      <td>1</td>\n",
       "      <td>17.0</td>\n",
       "      <td>1</td>\n",
       "      <td>0.8</td>\n",
       "      <td>3</td>\n",
       "      <td>5</td>\n",
       "      <td>4</td>\n",
       "      <td>1993</td>\n",
       "      <td>2</td>\n",
       "      <td>118</td>\n",
       "      <td>1.376774</td>\n",
       "    </tr>\n",
       "    <tr>\n",
       "      <th>4</th>\n",
       "      <td>1</td>\n",
       "      <td>17.0</td>\n",
       "      <td>1</td>\n",
       "      <td>0.8</td>\n",
       "      <td>3</td>\n",
       "      <td>5</td>\n",
       "      <td>4</td>\n",
       "      <td>1993</td>\n",
       "      <td>2</td>\n",
       "      <td>119</td>\n",
       "      <td>1.333208</td>\n",
       "    </tr>\n",
       "  </tbody>\n",
       "</table>\n",
       "</div>"
      ],
      "text/plain": [
       "   SC_Group_ID  SC_GroupCommod_ID  SC_Geography_ID  SortOrder  \\\n",
       "0            1               17.0                1        0.8   \n",
       "1            1               17.0                1        0.8   \n",
       "2            1               17.0                1        0.8   \n",
       "3            1               17.0                1        0.8   \n",
       "4            1               17.0                1        0.8   \n",
       "\n",
       "   SC_Commodity_ID  SC_Attribute_ID  SC_Unit_ID  Year_ID  SC_Frequency_ID  \\\n",
       "0                3                5           4     1993                2   \n",
       "1                3                5           4     1993                2   \n",
       "2                3                5           4     1993                2   \n",
       "3                3                5           4     1993                2   \n",
       "4                3                5           4     1993                2   \n",
       "\n",
       "   Timeperiod_ID    Amount  \n",
       "0            115  1.423390  \n",
       "1            116  1.460057  \n",
       "2            117  1.336757  \n",
       "3            118  1.376774  \n",
       "4            119  1.333208  "
      ]
     },
     "execution_count": 5,
     "metadata": {},
     "output_type": "execute_result"
    }
   ],
   "source": [
    "data_no_desc = data.drop(['SC_Group_Desc','SC_GroupCommod_Desc','SC_GeographyIndented_Desc','SC_Commodity_Desc','SC_Attribute_Desc','SC_Unit_Desc','SC_Frequency_Desc','Timeperiod_Desc'], axis=1)\n",
    "data_no_desc.head()"
   ]
  },
  {
   "cell_type": "code",
   "execution_count": 6,
   "metadata": {},
   "outputs": [
    {
     "data": {
      "text/plain": [
       "(476099, 11)"
      ]
     },
     "execution_count": 6,
     "metadata": {},
     "output_type": "execute_result"
    }
   ],
   "source": [
    "data_no_desc.shape"
   ]
  },
  {
   "cell_type": "code",
   "execution_count": 7,
   "metadata": {},
   "outputs": [
    {
     "name": "stderr",
     "output_type": "stream",
     "text": [
      "/tmp/ipykernel_4312/4044132566.py:3: FutureWarning: Support for multi-dimensional indexing (e.g. `obj[:, None]`) is deprecated and will be removed in a future version.  Convert to a numpy array before indexing instead.\n",
      "  data_no_desc.Amount = scaler.fit_transform(data_no_desc.Amount[:,np.newaxis])\n"
     ]
    }
   ],
   "source": [
    "from sklearn.preprocessing import MinMaxScaler\n",
    "scaler = MinMaxScaler()\n",
    "data_no_desc.Amount = scaler.fit_transform(data_no_desc.Amount[:,np.newaxis])"
   ]
  },
  {
   "cell_type": "code",
   "execution_count": 8,
   "metadata": {},
   "outputs": [
    {
     "name": "stderr",
     "output_type": "stream",
     "text": [
      "/home/derrick-shibero/.local/lib/python3.10/site-packages/seaborn/distributions.py:2619: FutureWarning: `distplot` is a deprecated function and will be removed in a future version. Please adapt your code to use either `displot` (a figure-level function with similar flexibility) or `histplot` (an axes-level function for histograms).\n",
      "  warnings.warn(msg, FutureWarning)\n"
     ]
    },
    {
     "data": {
      "text/plain": [
       "<AxesSubplot:xlabel='Amount', ylabel='Density'>"
      ]
     },
     "execution_count": 8,
     "metadata": {},
     "output_type": "execute_result"
    },
    {
     "data": {
      "image/png": "[encoded data removed]",
      "text/plain": [
       "<Figure size 432x288 with 1 Axes>"
      ]
     },
     "metadata": {
      "needs_background": "light"
     },
     "output_type": "display_data"
    }
   ],
   "source": [
    "sns.distplot(data_no_desc.Amount, bins=25)"
   ]
  },
  {
   "cell_type": "code",
   "execution_count": 9,
   "metadata": {},
   "outputs": [
    {
     "data": {
      "text/plain": [
       "count    4.760990e+05\n",
       "mean     2.539438e-04\n",
       "std      8.612140e-03\n",
       "min      0.000000e+00\n",
       "25%      6.927065e-08\n",
       "50%      6.980627e-08\n",
       "75%      8.198811e-08\n",
       "max      1.000000e+00\n",
       "Name: Amount, dtype: float64"
      ]
     },
     "execution_count": 9,
     "metadata": {},
     "output_type": "execute_result"
    }
   ],
   "source": [
    "data_no_desc.Amount.describe()"
   ]
  },
  {
   "cell_type": "code",
   "execution_count": 10,
   "metadata": {},
   "outputs": [],
   "source": [
    "from sklearn.model_selection import train_test_split\n",
    "from sklearn.linear_model import LinearRegression, Lasso\n",
    "from sklearn.ensemble import RandomForestRegressor\n",
    "from sklearn.tree import DecisionTreeRegressor\n",
    "from sklearn.neighbors import KNeighborsRegressor\n",
    "from sklearn.metrics import mean_absolute_error, r2_score\n",
    "\n",
    "linear = LinearRegression()\n",
    "lass = Lasso()\n",
    "ensemb = RandomForestRegressor()\n",
    "decision = DecisionTreeRegressor()\n",
    "neigh = KNeighborsRegressor()\n",
    "\n",
    "models = [linear, lass, ensemb, decision, neigh]"
   ]
  },
  {
   "cell_type": "code",
   "execution_count": 11,
   "metadata": {},
   "outputs": [],
   "source": [
    "X = data_no_desc.drop(['Amount'],axis=1)\n",
    "y = data_no_desc.Amount\n",
    "\n",
    "X_train, X_test, y_train, y_test = train_test_split(X, y, test_size=.75)"
   ]
  },
  {
   "cell_type": "code",
   "execution_count": 12,
   "metadata": {},
   "outputs": [
    {
     "name": "stdout",
     "output_type": "stream",
     "text": [
      "LinearRegression(): 0.0030060414198060936 0.0006633378813542378\n",
      "Lasso(): -1.377559535331585e-07 0.0004988136823202352\n",
      "RandomForestRegressor(): 0.8603257295685549 6.855807253405005e-05\n",
      "DecisionTreeRegressor(): 0.7895620867266039 8.016337141852652e-05\n",
      "KNeighborsRegressor(): 0.4259130489857297 0.0001963611041795698\n"
     ]
    }
   ],
   "source": [
    "for model in models:\n",
    "    model.fit(X_train, y_train)\n",
    "    y_pred = model.predict(X_test)\n",
    "    print(f'{model}: {r2_score(y_test, y_pred)} {mean_absolute_error(y_test, y_pred)}')"
   ]
  },
  {
   "cell_type": "code",
   "execution_count": 13,
   "metadata": {},
   "outputs": [],
   "source": [
    "import pickle\n",
    "pickle.dump(decision, open('decisiontree.pkl', 'wb'))"
   ]
  }
 ],
 "metadata": {
  "kernelspec": {
   "display_name": "Python 3.10.4 64-bit",
   "language": "python",
   "name": "python3"
  },
  "language_info": {
   "codemirror_mode": {
    "name": "ipython",
    "version": 3
   },
   "file_extension": ".py",
   "mimetype": "text/x-python",
   "name": "python",
   "nbconvert_exporter": "python",
   "pygments_lexer": "ipython3",
   "version": "3.10.4"
  },
  "orig_nbformat": 4,
  "vscode": {
   "interpreter": {
    "hash": "916dbcbb3f70747c44a77c7bcd40155683ae19c65e1c03b4aa3499c5328201f1"
   }
  }
 },
 "nbformat": 4,
 "nbformat_minor": 2
}
